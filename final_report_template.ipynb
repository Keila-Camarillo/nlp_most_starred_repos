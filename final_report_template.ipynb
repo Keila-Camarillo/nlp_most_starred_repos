{
 "cells": [
  {
   "cell_type": "markdown",
   "id": "58adc7fc-a001-4cc5-b852-71ec9b6fe01b",
   "metadata": {},
   "source": [
    "# Project Name"
   ]
  },
  {
   "cell_type": "markdown",
   "id": "3bde2140-d0ee-4ac2-8326-0a7d51876925",
   "metadata": {},
   "source": [
    "## Goal:\n",
    "- Objective 1\n",
    "- Objective 2"
   ]
  },
  {
   "cell_type": "markdown",
   "id": "dd199d9a-2435-47fd-bf9e-bf8b4591fb00",
   "metadata": {},
   "source": [
    "# Imports"
   ]
  },
  {
   "cell_type": "code",
   "execution_count": 29,
   "id": "9e5addb5-7672-4766-8666-e4a7a440a482",
   "metadata": {},
   "outputs": [],
   "source": [
    "import numpy as np\n",
    "import pandas as pd\n",
    "\n",
    "import matplotlib.pyplot as plt\n",
    "import seaborn as sns\n",
    "\n",
    "import wrangle as w\n",
    "# import explore as e\n",
    "# import model as m\n",
    "# import evaluate as ev\n",
    "\n",
    "from bs4 import BeautifulSoup\n",
    "import matplotlib.pyplot as plt\n",
    "import unicodedata\n",
    "import nltk\n",
    "from wordcloud import WordCloud\n",
    "import os\n",
    "import json\n",
    "\n",
    "from sklearn.model_selection import train_test_split\n",
    "from scipy.stats import pearsonr, spearmanr, f_oneway, ttest_ind\n",
    "\n",
    "np.random.seed(123)"
   ]
  },
  {
   "cell_type": "markdown",
   "id": "aae87c0f-cef8-4380-97ec-0b20930d5395",
   "metadata": {},
   "source": [
    "# Acquire\n",
    "- Data acquired from _____ (e.g. [data.world](https://data.world/food/wine_quality) )\n",
    "- It contained xx rows and xx columns before cleaning\n",
    "- Each row represents ____\n",
    "- Each column represents ____"
   ]
  },
  {
   "cell_type": "markdown",
   "id": "70cbae68-514e-4709-a682-fbb8eddf254c",
   "metadata": {},
   "source": [
    "# Prepare\n",
    "- Removed ...\n",
    "- Renamed ...\n",
    "- Checked for nulls ...\n",
    "- Checked that column data types were appropriate ...\n",
    "- Outliers ?\n",
    "- Added target column?\n",
    "- Added additional features?\n",
    "- Encoded categorical variables\n",
    "- Split data into train, validate, and test (60/20/20), stratifying ...\n",
    "- Scaled continuous variables\n"
   ]
  },
  {
   "cell_type": "markdown",
   "id": "d639ef5a-93ff-49ea-bee9-d91f8c2c7ee3",
   "metadata": {},
   "source": [
    "# Data Dictionary\n",
    "\n",
    "| Feature | Type | Definition |\n",
    "|:--------|:-----|:-----------|\n",
    "|feature_1 (target)|integer|definition 1|"
   ]
  },
  {
   "cell_type": "code",
   "execution_count": 63,
   "id": "c840832b",
   "metadata": {},
   "outputs": [],
   "source": [
    "def split_data(df, target_variable):\n",
    "    '''\n",
    "    Takes in two arguments the dataframe name and the (\"target_variable\" - must be in string format) to stratify  and \n",
    "    return train, validate, test subset dataframes will output train, validate, and test in that order.\n",
    "    '''\n",
    "    train, test = train_test_split(df, #first split\n",
    "                                   test_size=.2, \n",
    "                                   random_state=123, \n",
    "                                   stratify= df[target_variable])\n",
    "    train, validate = train_test_split(train, #second split\n",
    "                                    test_size=.25, \n",
    "                                    random_state=123, \n",
    "                                    stratify=train[target_variable])\n",
    "    return train, validate, test"
   ]
  },
  {
   "cell_type": "code",
   "execution_count": 70,
   "id": "4dbda891-a4bc-42a8-93f4-004c02e57547",
   "metadata": {},
   "outputs": [
    {
     "data": {
      "text/html": [
       "<div>\n",
       "<style scoped>\n",
       "    .dataframe tbody tr th:only-of-type {\n",
       "        vertical-align: middle;\n",
       "    }\n",
       "\n",
       "    .dataframe tbody tr th {\n",
       "        vertical-align: top;\n",
       "    }\n",
       "\n",
       "    .dataframe thead th {\n",
       "        text-align: right;\n",
       "    }\n",
       "</style>\n",
       "<table border=\"1\" class=\"dataframe\">\n",
       "  <thead>\n",
       "    <tr style=\"text-align: right;\">\n",
       "      <th></th>\n",
       "      <th>repo</th>\n",
       "      <th>language</th>\n",
       "      <th>readme_contents</th>\n",
       "      <th>clean</th>\n",
       "      <th>stemmed</th>\n",
       "      <th>lemmatized</th>\n",
       "    </tr>\n",
       "  </thead>\n",
       "  <tbody>\n",
       "    <tr>\n",
       "      <th>0</th>\n",
       "      <td>DroidPluginTeam/DroidPlugin</td>\n",
       "      <td>Java</td>\n",
       "      <td>Droid Plugin\\r\\n======\\r\\n\\r\\n[中文文档](readme_cn...</td>\n",
       "      <td>droid plugin readmecnmd fllow githubhttpsgithu...</td>\n",
       "      <td>droid plugin readmecnmd fllow githubhttpsgithu...</td>\n",
       "      <td>droid plugin readmecnmd fllow githubhttpsgithu...</td>\n",
       "    </tr>\n",
       "    <tr>\n",
       "      <th>1</th>\n",
       "      <td>angular-app/angular-app</td>\n",
       "      <td>JavaScript</td>\n",
       "      <td>[![Build Status](https://secure.travis-ci.org/...</td>\n",
       "      <td>build statushttpssecuretravisciorgangularappan...</td>\n",
       "      <td>build statushttpssecuretravisciorgangularappan...</td>\n",
       "      <td>build statushttpssecuretravisciorgangularappan...</td>\n",
       "    </tr>\n",
       "    <tr>\n",
       "      <th>2</th>\n",
       "      <td>doctrine/event-manager</td>\n",
       "      <td>PHP</td>\n",
       "      <td># Doctrine Event Manager\\n\\n[![Build Status](h...</td>\n",
       "      <td>doctrine event manager build statushttpsgithub...</td>\n",
       "      <td>doctrin event manag build statushttpsgithubcom...</td>\n",
       "      <td>doctrine event manager build statushttpsgithub...</td>\n",
       "    </tr>\n",
       "    <tr>\n",
       "      <th>3</th>\n",
       "      <td>huluoyang/freecodecamp.cn</td>\n",
       "      <td>JavaScript</td>\n",
       "      <td>![](https://s3.amazonaws.com/freecodecamp/wide...</td>\n",
       "      <td>httpss3amazonawscomfreecodecampwidesocialbanne...</td>\n",
       "      <td>httpss3amazonawscomfreecodecampwidesocialbanne...</td>\n",
       "      <td>httpss3amazonawscomfreecodecampwidesocialbanne...</td>\n",
       "    </tr>\n",
       "    <tr>\n",
       "      <th>4</th>\n",
       "      <td>spolu/breach_core</td>\n",
       "      <td>JavaScript</td>\n",
       "      <td>### Breach: A Browser for the HTML5 Era\\n\\n**M...</td>\n",
       "      <td>breach browser html5 era modular everything br...</td>\n",
       "      <td>breach browser html5 era modular everyth brows...</td>\n",
       "      <td>breach browser html5 era modular everything br...</td>\n",
       "    </tr>\n",
       "  </tbody>\n",
       "</table>\n",
       "</div>"
      ],
      "text/plain": [
       "                          repo    language  \\\n",
       "0  DroidPluginTeam/DroidPlugin        Java   \n",
       "1      angular-app/angular-app  JavaScript   \n",
       "2       doctrine/event-manager         PHP   \n",
       "3    huluoyang/freecodecamp.cn  JavaScript   \n",
       "4            spolu/breach_core  JavaScript   \n",
       "\n",
       "                                     readme_contents  \\\n",
       "0  Droid Plugin\\r\\n======\\r\\n\\r\\n[中文文档](readme_cn...   \n",
       "1  [![Build Status](https://secure.travis-ci.org/...   \n",
       "2  # Doctrine Event Manager\\n\\n[![Build Status](h...   \n",
       "3  ![](https://s3.amazonaws.com/freecodecamp/wide...   \n",
       "4  ### Breach: A Browser for the HTML5 Era\\n\\n**M...   \n",
       "\n",
       "                                               clean  \\\n",
       "0  droid plugin readmecnmd fllow githubhttpsgithu...   \n",
       "1  build statushttpssecuretravisciorgangularappan...   \n",
       "2  doctrine event manager build statushttpsgithub...   \n",
       "3  httpss3amazonawscomfreecodecampwidesocialbanne...   \n",
       "4  breach browser html5 era modular everything br...   \n",
       "\n",
       "                                             stemmed  \\\n",
       "0  droid plugin readmecnmd fllow githubhttpsgithu...   \n",
       "1  build statushttpssecuretravisciorgangularappan...   \n",
       "2  doctrin event manag build statushttpsgithubcom...   \n",
       "3  httpss3amazonawscomfreecodecampwidesocialbanne...   \n",
       "4  breach browser html5 era modular everyth brows...   \n",
       "\n",
       "                                          lemmatized  \n",
       "0  droid plugin readmecnmd fllow githubhttpsgithu...  \n",
       "1  build statushttpssecuretravisciorgangularappan...  \n",
       "2  doctrine event manager build statushttpsgithub...  \n",
       "3  httpss3amazonawscomfreecodecampwidesocialbanne...  \n",
       "4  breach browser html5 era modular everything br...  "
      ]
     },
     "execution_count": 70,
     "metadata": {},
     "output_type": "execute_result"
    }
   ],
   "source": [
    "## acquireing and preparing data for exploration\n",
    "f = open('data.json')\n",
    "df = json.load(f)\n",
    "df = pd.DataFrame(df)\n",
    "\n",
    "df = w.clean_df(df)\n",
    "\n",
    "# dropping nulls\n",
    "df = df.dropna()\n",
    "df.head()\n",
    "\n"
   ]
  },
  {
   "cell_type": "code",
   "execution_count": 77,
   "id": "68ee13d9",
   "metadata": {},
   "outputs": [
    {
     "data": {
      "text/plain": [
       "JavaScript      30\n",
       "Objective-C     18\n",
       "Java            11\n",
       "Ruby            11\n",
       "Python           8\n",
       "Swift            7\n",
       "CSS              5\n",
       "PHP              3\n",
       "Go               3\n",
       "TypeScript       2\n",
       "C++              2\n",
       "C                2\n",
       "Rust             2\n",
       "Haskell          1\n",
       "CoffeeScript     1\n",
       "Dart             1\n",
       "Matlab           1\n",
       "HTML             1\n",
       "Kotlin           1\n",
       "Name: language, dtype: int64"
      ]
     },
     "execution_count": 77,
     "metadata": {},
     "output_type": "execute_result"
    }
   ],
   "source": [
    "df.language.value_counts"
   ]
  },
  {
   "cell_type": "code",
   "execution_count": 82,
   "id": "8dec9e3d",
   "metadata": {},
   "outputs": [
    {
     "name": "stderr",
     "output_type": "stream",
     "text": [
      "/var/folders/bf/lhpb5n_j1xj4msxy6nrm9h7h0000gn/T/ipykernel_22443/3120801517.py:5: SettingWithCopyWarning: \n",
      "A value is trying to be set on a copy of a slice from a DataFrame\n",
      "\n",
      "See the caveats in the documentation: https://pandas.pydata.org/pandas-docs/stable/user_guide/indexing.html#returning-a-view-versus-a-copy\n",
      "  df.loc[~df['language'].isin(languages), 'language'] = 'other'\n"
     ]
    }
   ],
   "source": [
    "# Assuming you have a DataFrame named 'df' and the column is 'language'\n",
    "languages = ['JavaScript', 'Objective-C', 'Java', 'Ruby', 'Python', 'Swift']\n",
    "\n",
    "# Change values to \"other\" if not in the specified languages\n",
    "df.loc[~df['language'].isin(languages), 'language'] = 'other'"
   ]
  },
  {
   "cell_type": "code",
   "execution_count": 84,
   "id": "abc02d95",
   "metadata": {},
   "outputs": [
    {
     "data": {
      "text/plain": [
       "array(['Java', 'JavaScript', 'other', 'Swift', 'Python', 'Objective-C',\n",
       "       'Ruby'], dtype=object)"
      ]
     },
     "execution_count": 84,
     "metadata": {},
     "output_type": "execute_result"
    }
   ],
   "source": [
    "df.language.unique()"
   ]
  },
  {
   "cell_type": "code",
   "execution_count": 81,
   "id": "9422ba39",
   "metadata": {},
   "outputs": [
    {
     "data": {
      "text/plain": [
       "JavaScript     30\n",
       "Objective-C    18\n",
       "Java           11\n",
       "Ruby           11\n",
       "Python          8\n",
       "Swift           7\n",
       "CSS             5\n",
       "PHP             3\n",
       "Go              3\n",
       "TypeScript      2\n",
       "C++             2\n",
       "C               2\n",
       "Rust            2\n",
       "Name: language, dtype: int64"
      ]
     },
     "execution_count": 81,
     "metadata": {},
     "output_type": "execute_result"
    }
   ],
   "source": [
    "df.language.value_counts()"
   ]
  },
  {
   "cell_type": "code",
   "execution_count": 88,
   "id": "6db7aff6",
   "metadata": {},
   "outputs": [],
   "source": [
    "## splitting data in to train, validate, and test\n",
    "#train, validate, test = w.split_function(df)\n",
    "target_variable = \"language\"\n",
    "train, validate, test = split_data(df, target_variable)"
   ]
  },
  {
   "cell_type": "markdown",
   "id": "22d48fbc-168e-4fb4-b6f0-3c48309f4cbe",
   "metadata": {},
   "source": [
    "# A brief look at the data"
   ]
  },
  {
   "cell_type": "code",
   "execution_count": 5,
   "id": "6fe6a1b7-7ca0-4b60-96ab-33605f206802",
   "metadata": {},
   "outputs": [],
   "source": [
    "# train.head()"
   ]
  },
  {
   "cell_type": "markdown",
   "id": "5423f5c5-8e6a-453f-91c9-4e94665a470c",
   "metadata": {},
   "source": [
    "## A summary of the data"
   ]
  },
  {
   "cell_type": "code",
   "execution_count": 6,
   "id": "e70fe2b1-c77a-43ae-86ac-4a2632dc3225",
   "metadata": {},
   "outputs": [],
   "source": [
    "# train.info()"
   ]
  },
  {
   "cell_type": "code",
   "execution_count": 7,
   "id": "b24999eb-a486-4a38-8264-597f3056570b",
   "metadata": {},
   "outputs": [],
   "source": [
    "# train.describe"
   ]
  },
  {
   "cell_type": "markdown",
   "id": "f098fa1c-9ded-4a78-9ab9-ecfa70543e59",
   "metadata": {},
   "source": [
    "# Explore"
   ]
  },
  {
   "cell_type": "markdown",
   "id": "a5c5a01d-31a8-40cb-aa0b-b9f14a750e31",
   "metadata": {},
   "source": [
    "## Question 0 (e.g. What is the distribution of the target?)\n",
    "- NOTE: this question is more of a look at the data, not a stats test question"
   ]
  },
  {
   "cell_type": "code",
   "execution_count": 8,
   "id": "799e28c7-9419-414c-9b31-d56d313c16b1",
   "metadata": {},
   "outputs": [],
   "source": [
    "# Example: # get a boxplot and histplot of property_value of train\n",
    "## INSERT CODE HERE"
   ]
  },
  {
   "cell_type": "markdown",
   "id": "692e2149-b660-4f08-af79-f55dc288fcf0",
   "metadata": {},
   "source": [
    "## Question 1 (e.g. Is feature_x associated with target?)"
   ]
  },
  {
   "cell_type": "code",
   "execution_count": 9,
   "id": "b4d89248-6fdb-476c-9aec-7056d432effc",
   "metadata": {},
   "outputs": [],
   "source": [
    "# Visualize Example: # get a regplot of squarefeet vs property_value on train\n",
    "## INSERT CODE HERE"
   ]
  },
  {
   "cell_type": "markdown",
   "id": "0be0c02b-bc5b-4ea2-8cfd-e4d0bed55081",
   "metadata": {},
   "source": [
    "### Analyze feature_x vs target with stats\n",
    "- $H_0$: There is NO relationship between feature_x and target\n",
    "- $H_a$: There IS a relationship\n",
    "- $\\alpha$ = .05\n",
    "    - Example 1: Utilize pearsonr - we are comparing continuous variables, normally distributed\n",
    "    - Example 2:Comparing a categorical to a continuous variable, normally distributed, and equal variance\n",
    "        - Testing if property value of has_pool == 1 is signicantly greater than has_pool == 0:  one-tail ttest\n",
    "        - Utilize f_oneway\n",
    "    - Many other stats tests"
   ]
  },
  {
   "cell_type": "code",
   "execution_count": 10,
   "id": "3ee0e42c-71e8-4a04-aecd-17ac6a42dacc",
   "metadata": {},
   "outputs": [],
   "source": [
    "# get the stats from a pearsonr test on feature_x vs target\n",
    "## INSERT CODE HERE"
   ]
  },
  {
   "cell_type": "markdown",
   "id": "f4bc445a-23c3-42ab-8b61-b44b84fad81c",
   "metadata": {},
   "source": [
    "### Summarize\n",
    "- p is < $\\alpha$, so we can reject the $H_0$ which suggest the $H_a$, i.e. there IS a relationship between feature_x and target (and maybe more description)"
   ]
  },
  {
   "cell_type": "markdown",
   "id": "9ab029ee-2e57-4241-a727-6d8646873f8d",
   "metadata": {},
   "source": [
    "## Question 2 (e.g. Is feature_x associated with target?)"
   ]
  },
  {
   "cell_type": "code",
   "execution_count": 11,
   "id": "7ca01a96-cdbf-4fdc-a147-37981a5ffd62",
   "metadata": {},
   "outputs": [],
   "source": [
    "# Visualize Example: # get a regplot of squarefeet vs property_value on train\n",
    "## INSERT CODE HERE"
   ]
  },
  {
   "cell_type": "markdown",
   "id": "914c5bf2-e9b5-42b3-8723-bea67545d53f",
   "metadata": {},
   "source": [
    "### Analyze feature_x vs target with stats\n",
    "- $H_0$: There is NO relationship between feature_x and target\n",
    "- $H_a$: There IS a relationship\n",
    "- $\\alpha$ = .05\n",
    "    - Example 1: Utilize pearsonr - we are comparing continuous variables, normally distributed\n",
    "    - Example 2:Comparing a categorical to a continuous variable, normally distributed, and equal variance\n",
    "        - Testing if property value of has_pool == 1 is signicantly greater than has_pool == 0:  one-tail ttest\n",
    "        - Utilize f_oneway\n",
    "    - Many other stats tests"
   ]
  },
  {
   "cell_type": "code",
   "execution_count": 12,
   "id": "abeef95f-c078-4b78-9676-f8b5b9c6ba9f",
   "metadata": {},
   "outputs": [],
   "source": [
    "# get the stats from a pearsonr test on feature_x vs target\n",
    "## INSERT CODE HERE"
   ]
  },
  {
   "cell_type": "markdown",
   "id": "c412b2fb-1c5e-4384-ae8f-26a88747f998",
   "metadata": {},
   "source": [
    "### Summarize\n",
    "- p is < $\\alpha$, so we can reject the $H_0$ which suggest the $H_a$, i.e. there IS a relationship between feature_x and target (and maybe more description)"
   ]
  },
  {
   "cell_type": "markdown",
   "id": "6b59bf89-7cd7-45c1-8993-e01232adc37f",
   "metadata": {},
   "source": [
    "## Question 3 (e.g. Is feature_x associated with target?)"
   ]
  },
  {
   "cell_type": "code",
   "execution_count": 13,
   "id": "be92c1e8-7bf5-4805-8802-3628f17f9c90",
   "metadata": {},
   "outputs": [],
   "source": [
    "# Visualize Example: # get a regplot of squarefeet vs property_value on train\n",
    "## INSERT CODE HERE"
   ]
  },
  {
   "cell_type": "markdown",
   "id": "dcf41d59-f837-4c10-8393-303b8c7f1cb6",
   "metadata": {},
   "source": [
    "### Analyze feature_x vs target with stats\n",
    "- $H_0$: There is NO relationship between feature_x and target\n",
    "- $H_a$: There IS a relationship\n",
    "- $\\alpha$ = .05\n",
    "    - Example 1: Utilize pearsonr - we are comparing continuous variables, normally distributed\n",
    "    - Example 2:Comparing a categorical to a continuous variable, normally distributed, and equal variance\n",
    "        - Testing if property value of has_pool == 1 is signicantly greater than has_pool == 0:  one-tail ttest\n",
    "        - Utilize f_oneway\n",
    "    - Many other stats tests"
   ]
  },
  {
   "cell_type": "code",
   "execution_count": 14,
   "id": "b885b43a-8cdb-4713-be95-11f6584dca4b",
   "metadata": {},
   "outputs": [],
   "source": [
    "# get the stats from a pearsonr test on feature_x vs target\n",
    "## INSERT CODE HERE"
   ]
  },
  {
   "cell_type": "markdown",
   "id": "575b20c3-5452-4d79-b58a-94e396174c7c",
   "metadata": {},
   "source": [
    "### Summarize\n",
    "- p is < $\\alpha$, so we can reject the $H_0$ which suggest the $H_a$, i.e. there IS a relationship between feature_x and target (and maybe more description)"
   ]
  },
  {
   "cell_type": "markdown",
   "id": "5bcb94d7-9b6f-499c-a02c-5007c91cef09",
   "metadata": {},
   "source": [
    "## Question 4 (e.g. Is feature_x associated with target?)"
   ]
  },
  {
   "cell_type": "code",
   "execution_count": 15,
   "id": "71c328d9-b648-492a-bc80-0ca403429a01",
   "metadata": {},
   "outputs": [],
   "source": [
    "# Visualize Example: # get a regplot of squarefeet vs property_value on train\n",
    "## INSERT CODE HERE"
   ]
  },
  {
   "cell_type": "markdown",
   "id": "a669be59-4ecc-4339-a90c-97fc39fb7db2",
   "metadata": {},
   "source": [
    "### Analyze feature_x vs target with stats\n",
    "- $H_0$: There is NO relationship between feature_x and target\n",
    "- $H_a$: There IS a relationship\n",
    "- $\\alpha$ = .05\n",
    "    - Example 1: Utilize pearsonr - we are comparing continuous variables, normally distributed\n",
    "    - Example 2:Comparing a categorical to a continuous variable, normally distributed, and equal variance\n",
    "        - Testing if property value of has_pool == 1 is signicantly greater than has_pool == 0:  one-tail ttest\n",
    "        - Utilize f_oneway\n",
    "    - Many other stats tests"
   ]
  },
  {
   "cell_type": "code",
   "execution_count": 16,
   "id": "0ce59fa9-b6b8-4d10-9956-33c4eb13407a",
   "metadata": {},
   "outputs": [],
   "source": [
    "# get the stats from a pearsonr test on feature_x vs target\n",
    "## INSERT CODE HERE"
   ]
  },
  {
   "cell_type": "markdown",
   "id": "29f18be1-aa64-4d65-82b0-a51bf2552cea",
   "metadata": {},
   "source": [
    "### Summarize\n",
    "- p is < $\\alpha$, so we can reject the $H_0$ which suggest the $H_a$, i.e. there IS a relationship between feature_x and target (and maybe more description)"
   ]
  },
  {
   "cell_type": "markdown",
   "id": "61405f05-c95d-4259-8199-749c1c5687c0",
   "metadata": {},
   "source": [
    "## Exploration Summary\n",
    "* Plain English bullets as required\n",
    "\n",
    "* Features that have a relationship with target (stats test for feature_y, feature_z, etc. completed on separate working notebook:\n",
    "    * feature x ...\n",
    "    * feature y\n",
    "    * feature z\n"
   ]
  },
  {
   "cell_type": "markdown",
   "id": "1edf3028-b066-4bc7-b36f-973e93d1cf00",
   "metadata": {},
   "source": [
    "### (As Required) Features I am moving to modeling with"
   ]
  },
  {
   "cell_type": "markdown",
   "id": "03106467-78b4-4b91-ad02-ee5e1bd347b9",
   "metadata": {},
   "source": [
    "### (As Required) Features I am not moving to modeling with"
   ]
  },
  {
   "cell_type": "markdown",
   "id": "ce5644a9-dd6d-4cca-8967-551b6b7204d6",
   "metadata": {},
   "source": [
    "# Modeling\n",
    "* Evaluation Metrics (example: I will use R^2 and Root Mean Square Error (RMSE) as my evaluation metrics)\n",
    "    * for R^2, the value is in the range 0-1; closer to 1.0 is better; baseline is 0.0\n",
    "    * for RMSE, the lower the value the better; baseline is xxx\n",
    "* The average target is xxx which is the baseline prediction\n",
    "* I will evaluate x different model types and various hyperparameter configurations\n",
    "    * (Example: The four model types are Ordinary Least Squares (OLS), LassoLars, Polynomial Regression, Generalized Linear Model (GLM))\n",
    "* Models will be evaluated on train and validate data\n",
    "* The model that performs the best will then be evaluated on test"
   ]
  },
  {
   "cell_type": "code",
   "execution_count": 17,
   "id": "0c1e70d0-b1eb-431b-ae70-73ae4275f7be",
   "metadata": {},
   "outputs": [],
   "source": [
    "## prep data for modeling\n",
    "## INSERT CODE HERE (examples below\n",
    "\n",
    "# scaling continuous variable columns for use in modeling\n",
    "# to_scale = ['bathrooms', 'bedrooms', 'squarefeet', 'lotsize_sqft', 'year']\n",
    "# train_scaled, validate_scaled, test_scaled = w.get_minmax_scaled(train, validate, test, to_scale)\n",
    "\n",
    "# get X y splits for modeling\n",
    "# X_train_scaled, X_validate_scaled, X_test_scaled, y_train, y_validate, y_test = m.get_X_y_baseline(train_scaled, validate_scaled, test_scaled)"
   ]
  },
  {
   "cell_type": "markdown",
   "id": "fe366a63-f8f6-4a08-931b-b8211c26393f",
   "metadata": {},
   "source": [
    "## Model Name (example: Ordinary Least Squares (OLS) Regression)"
   ]
  },
  {
   "cell_type": "code",
   "execution_count": 18,
   "id": "0253d4ed-9907-441a-9f56-826b916f87f1",
   "metadata": {},
   "outputs": [],
   "source": [
    "# get model results\n",
    "# INSERT CODE HERE"
   ]
  },
  {
   "cell_type": "markdown",
   "id": "d3fa8e44-a95e-40bf-a33e-1121643eeb5c",
   "metadata": {},
   "source": [
    "* model name did/did not beat baseline"
   ]
  },
  {
   "cell_type": "markdown",
   "id": "23223c6d-3e73-4023-860a-f9096996a35d",
   "metadata": {},
   "source": [
    "## Model Name (example: LassoLars)"
   ]
  },
  {
   "cell_type": "code",
   "execution_count": 19,
   "id": "6982afc1-f59d-4542-8f9f-9e5f933c6270",
   "metadata": {},
   "outputs": [],
   "source": [
    "# get model results\n",
    "# INSERT CODE HERE"
   ]
  },
  {
   "cell_type": "markdown",
   "id": "3375facb-94b0-4c75-8fff-19d51d1cdaea",
   "metadata": {},
   "source": [
    "* model name did/did not beat baseline"
   ]
  },
  {
   "cell_type": "markdown",
   "id": "132b48fe-5ccb-4843-acf1-0128a962c03f",
   "metadata": {},
   "source": [
    "## Model Name (example: Polynomial Regression)"
   ]
  },
  {
   "cell_type": "code",
   "execution_count": 20,
   "id": "54393a40-ef22-4238-a8ed-2e9955e4716e",
   "metadata": {},
   "outputs": [],
   "source": [
    "# get model results\n",
    "# INSERT CODE HERE"
   ]
  },
  {
   "cell_type": "markdown",
   "id": "a7f23c07-e8c1-4110-b282-c5249351be47",
   "metadata": {},
   "source": [
    "* model name did/did not beat baseline"
   ]
  },
  {
   "cell_type": "markdown",
   "id": "9c8cd0b0-b255-45ce-b50c-5fb50086ad05",
   "metadata": {},
   "source": [
    "## Model Name (example: Generalized Linear Model (GLM))"
   ]
  },
  {
   "cell_type": "code",
   "execution_count": 21,
   "id": "aeb23ee3-9ac8-416e-b41b-042522c350e4",
   "metadata": {},
   "outputs": [],
   "source": [
    "# get model results\n",
    "# INSERT CODE HERE"
   ]
  },
  {
   "cell_type": "markdown",
   "id": "5c5424dd-05a1-4312-8ed0-0d9c10169891",
   "metadata": {},
   "source": [
    "* model name did/did not beat baseline"
   ]
  },
  {
   "cell_type": "markdown",
   "id": "38af26d7-2fc2-47c3-8bf2-cc435eca964d",
   "metadata": {},
   "source": [
    "## Comparing Models\n",
    "* summarize the model performance\n",
    "* ...\n",
    "* I have chosen to move forward with the ___ model on test"
   ]
  },
  {
   "cell_type": "markdown",
   "id": "f757c82b-fe9e-4cff-966a-5ca738701bf6",
   "metadata": {},
   "source": [
    "## Best Model (model name) on Test"
   ]
  },
  {
   "cell_type": "code",
   "execution_count": 22,
   "id": "b4e673af-5c0e-46d0-9ad2-e38c0074cd35",
   "metadata": {},
   "outputs": [],
   "source": [
    "# get test results for final model\n",
    "# INSERT CODE HERE"
   ]
  },
  {
   "cell_type": "code",
   "execution_count": 23,
   "id": "92aa61a8-8aba-4d9b-a4bb-eafb5129c109",
   "metadata": {},
   "outputs": [],
   "source": [
    "# maybe a visual of model performance (like a residual plot for a regression model)"
   ]
  },
  {
   "cell_type": "markdown",
   "id": "a0b5e7d9-7b20-47a0-8d4e-5fd718457ba9",
   "metadata": {},
   "source": [
    "## Modeling Summary\n",
    "* summary bullet 1 ..."
   ]
  },
  {
   "cell_type": "markdown",
   "id": "90a4de71-1dfa-4fb4-9db6-16ad478ecb21",
   "metadata": {},
   "source": [
    "# Conclusions"
   ]
  },
  {
   "cell_type": "markdown",
   "id": "525f5d7c-6d57-46fc-a73b-214d747fb463",
   "metadata": {},
   "source": [
    "## Exploration\n",
    "* bullets"
   ]
  },
  {
   "cell_type": "markdown",
   "id": "17f540ad-bda0-4fc3-b86d-dcc1a54e0be6",
   "metadata": {},
   "source": [
    "## Modeling\n",
    "* bullets"
   ]
  },
  {
   "cell_type": "markdown",
   "id": "2908b674-c768-40c2-8f99-0bc4cd59e719",
   "metadata": {},
   "source": [
    "## Recommendations\n",
    "* bullets"
   ]
  },
  {
   "cell_type": "markdown",
   "id": "f26aeb83-c95f-44d2-8d0d-d5a45a7851ef",
   "metadata": {},
   "source": [
    "## Next steps\n",
    "* bullets"
   ]
  }
 ],
 "metadata": {
  "kernelspec": {
   "display_name": "Python 3 (ipykernel)",
   "language": "python",
   "name": "python3"
  },
  "language_info": {
   "codemirror_mode": {
    "name": "ipython",
    "version": 3
   },
   "file_extension": ".py",
   "mimetype": "text/x-python",
   "name": "python",
   "nbconvert_exporter": "python",
   "pygments_lexer": "ipython3",
   "version": "3.9.13"
  }
 },
 "nbformat": 4,
 "nbformat_minor": 5
}
