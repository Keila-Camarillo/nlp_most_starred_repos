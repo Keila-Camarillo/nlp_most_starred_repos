{
 "cells": [
  {
   "cell_type": "markdown",
   "id": "58adc7fc-a001-4cc5-b852-71ec9b6fe01b",
   "metadata": {},
   "source": [
    "# Project Name"
   ]
  },
  {
   "cell_type": "markdown",
   "id": "3bde2140-d0ee-4ac2-8326-0a7d51876925",
   "metadata": {},
   "source": [
    "## Goal:\n",
    "- Objective 1\n",
    "- Objective 2"
   ]
  },
  {
   "cell_type": "markdown",
   "id": "dd199d9a-2435-47fd-bf9e-bf8b4591fb00",
   "metadata": {},
   "source": [
    "# Imports"
   ]
  },
  {
   "cell_type": "code",
   "execution_count": 1,
   "id": "9e5addb5-7672-4766-8666-e4a7a440a482",
   "metadata": {},
   "outputs": [],
   "source": [
    "import numpy as np\n",
    "import pandas as pd\n",
    "\n",
    "import matplotlib.pyplot as plt\n",
    "import seaborn as sns\n",
    "\n",
    "import acquire as a\n",
    "import wrangle as w\n",
    "import keila_explore as ke\n",
    "# import explore as e\n",
    "# import model as m\n",
    "# import evaluate as ev\n",
    "\n",
    "from bs4 import BeautifulSoup\n",
    "import matplotlib.pyplot as plt\n",
    "import unicodedata\n",
    "import nltk\n",
    "from wordcloud import WordCloud\n",
    "import os\n",
    "import json\n",
    "\n",
    "from sklearn.model_selection import train_test_split\n",
    "from scipy.stats import pearsonr, spearmanr, f_oneway, ttest_ind\n",
    "\n",
    "np.random.seed(123)"
   ]
  },
  {
   "cell_type": "markdown",
   "id": "aae87c0f-cef8-4380-97ec-0b20930d5395",
   "metadata": {},
   "source": [
    "# Acquire\n",
    "- Data acquired from _____ (e.g. [data.world](https://data.world/food/wine_quality) )\n",
    "- It contained xx rows and xx columns before cleaning\n",
    "- Each row represents ____\n",
    "- Each column represents ____"
   ]
  },
  {
   "cell_type": "markdown",
   "id": "70cbae68-514e-4709-a682-fbb8eddf254c",
   "metadata": {},
   "source": [
    "# Prepare\n",
    "- Removed ...\n",
    "- Renamed ...\n",
    "- Checked for nulls ...\n",
    "- Checked that column data types were appropriate ...\n",
    "- Outliers ?\n",
    "- Added target column?\n",
    "- Added additional features?\n",
    "- Encoded categorical variables\n",
    "- Split data into train, validate, and test (60/20/20), stratifying ...\n",
    "- Scaled continuous variables\n"
   ]
  },
  {
   "cell_type": "markdown",
   "id": "d639ef5a-93ff-49ea-bee9-d91f8c2c7ee3",
   "metadata": {},
   "source": [
    "# Data Dictionary\n",
    "\n",
    "| Feature | Type | Definition |\n",
    "|:--------|:-----|:-----------|\n",
    "|feature_1 (target)|integer|definition 1|"
   ]
  },
  {
   "cell_type": "code",
   "execution_count": 2,
   "id": "4dbda891-a4bc-42a8-93f4-004c02e57547",
   "metadata": {},
   "outputs": [],
   "source": [
    "## acquireing and preparing data for exploration\n",
    "df = a.get_data_json()\n",
    "\n",
    "df = w.clean_df(df, [\"'\", \"&#9;\"])\n",
    "\n",
    "df = df.drop(columns=[\"clean\",\"stemmed\"])\n",
    "\n"
   ]
  },
  {
   "cell_type": "code",
   "execution_count": 3,
   "id": "6db7aff6",
   "metadata": {},
   "outputs": [],
   "source": [
    "## splitting data in to train, validate, and test\n",
    "train, validate, test = w.split_data(df)"
   ]
  },
  {
   "cell_type": "markdown",
   "id": "22d48fbc-168e-4fb4-b6f0-3c48309f4cbe",
   "metadata": {},
   "source": [
    "# A brief look at the data"
   ]
  },
  {
   "cell_type": "code",
   "execution_count": 4,
   "id": "6fe6a1b7-7ca0-4b60-96ab-33605f206802",
   "metadata": {},
   "outputs": [
    {
     "data": {
      "text/html": [
       "<div>\n",
       "<style scoped>\n",
       "    .dataframe tbody tr th:only-of-type {\n",
       "        vertical-align: middle;\n",
       "    }\n",
       "\n",
       "    .dataframe tbody tr th {\n",
       "        vertical-align: top;\n",
       "    }\n",
       "\n",
       "    .dataframe thead th {\n",
       "        text-align: right;\n",
       "    }\n",
       "</style>\n",
       "<table border=\"1\" class=\"dataframe\">\n",
       "  <thead>\n",
       "    <tr style=\"text-align: right;\">\n",
       "      <th></th>\n",
       "      <th>repo</th>\n",
       "      <th>language</th>\n",
       "      <th>readme_contents</th>\n",
       "      <th>lemmatized</th>\n",
       "      <th>readme_length</th>\n",
       "    </tr>\n",
       "  </thead>\n",
       "  <tbody>\n",
       "    <tr>\n",
       "      <th>70</th>\n",
       "      <td>inkling/Subliminal</td>\n",
       "      <td>Objective-C</td>\n",
       "      <td>&lt;p align=\"center\" &gt;\\n  &lt;img src=\"http://inklin...</td>\n",
       "      <td>p aligncenter img srchttpinklinggithubiosublim...</td>\n",
       "      <td>11215</td>\n",
       "    </tr>\n",
       "    <tr>\n",
       "      <th>59</th>\n",
       "      <td>microsoftarchive/android-sliding-layer-lib</td>\n",
       "      <td>Java</td>\n",
       "      <td>6Wunderkinder SlidingLayer for Android\\n======...</td>\n",
       "      <td>6wunderkinder slidinglayer android repository ...</td>\n",
       "      <td>4266</td>\n",
       "    </tr>\n",
       "    <tr>\n",
       "      <th>92</th>\n",
       "      <td>jamesob/tinychain</td>\n",
       "      <td>Python</td>\n",
       "      <td># ⛼  tinychain\\n\\n*Putting the rough in \"[roug...</td>\n",
       "      <td>tinychain putting rough rough consensushttpsto...</td>\n",
       "      <td>8333</td>\n",
       "    </tr>\n",
       "    <tr>\n",
       "      <th>104</th>\n",
       "      <td>Cleveroad/CRNetworkButton</td>\n",
       "      <td>Swift</td>\n",
       "      <td># CRNetworkButton [![Awesome](https://cdn.rawg...</td>\n",
       "      <td>crnetworkbutton awesomehttpscdnrawgitcomsindre...</td>\n",
       "      <td>5268</td>\n",
       "    </tr>\n",
       "    <tr>\n",
       "      <th>97</th>\n",
       "      <td>zhangxinxu/mobilebone</td>\n",
       "      <td>JavaScript</td>\n",
       "      <td>mobilebone.js\\n=============\\n\\n&lt;img src=\"http...</td>\n",
       "      <td>mobilebonejs img srchttpswwwzhangxinxucomgithu...</td>\n",
       "      <td>5908</td>\n",
       "    </tr>\n",
       "  </tbody>\n",
       "</table>\n",
       "</div>"
      ],
      "text/plain": [
       "                                           repo     language  \\\n",
       "70                           inkling/Subliminal  Objective-C   \n",
       "59   microsoftarchive/android-sliding-layer-lib         Java   \n",
       "92                            jamesob/tinychain       Python   \n",
       "104                   Cleveroad/CRNetworkButton        Swift   \n",
       "97                        zhangxinxu/mobilebone   JavaScript   \n",
       "\n",
       "                                       readme_contents  \\\n",
       "70   <p align=\"center\" >\\n  <img src=\"http://inklin...   \n",
       "59   6Wunderkinder SlidingLayer for Android\\n======...   \n",
       "92   # ⛼  tinychain\\n\\n*Putting the rough in \"[roug...   \n",
       "104  # CRNetworkButton [![Awesome](https://cdn.rawg...   \n",
       "97   mobilebone.js\\n=============\\n\\n<img src=\"http...   \n",
       "\n",
       "                                            lemmatized  readme_length  \n",
       "70   p aligncenter img srchttpinklinggithubiosublim...          11215  \n",
       "59   6wunderkinder slidinglayer android repository ...           4266  \n",
       "92   tinychain putting rough rough consensushttpsto...           8333  \n",
       "104  crnetworkbutton awesomehttpscdnrawgitcomsindre...           5268  \n",
       "97   mobilebonejs img srchttpswwwzhangxinxucomgithu...           5908  "
      ]
     },
     "execution_count": 4,
     "metadata": {},
     "output_type": "execute_result"
    }
   ],
   "source": [
    "train.head()"
   ]
  },
  {
   "cell_type": "markdown",
   "id": "5423f5c5-8e6a-453f-91c9-4e94665a470c",
   "metadata": {},
   "source": [
    "## A summary of the data"
   ]
  },
  {
   "cell_type": "code",
   "execution_count": 5,
   "id": "e70fe2b1-c77a-43ae-86ac-4a2632dc3225",
   "metadata": {},
   "outputs": [
    {
     "name": "stdout",
     "output_type": "stream",
     "text": [
      "<class 'pandas.core.frame.DataFrame'>\n",
      "Int64Index: 66 entries, 70 to 75\n",
      "Data columns (total 5 columns):\n",
      " #   Column           Non-Null Count  Dtype \n",
      "---  ------           --------------  ----- \n",
      " 0   repo             66 non-null     object\n",
      " 1   language         66 non-null     object\n",
      " 2   readme_contents  66 non-null     object\n",
      " 3   lemmatized       66 non-null     object\n",
      " 4   readme_length    66 non-null     int64 \n",
      "dtypes: int64(1), object(4)\n",
      "memory usage: 3.1+ KB\n"
     ]
    }
   ],
   "source": [
    "train.info()"
   ]
  },
  {
   "cell_type": "code",
   "execution_count": 6,
   "id": "b24999eb-a486-4a38-8264-597f3056570b",
   "metadata": {},
   "outputs": [
    {
     "data": {
      "text/html": [
       "<div>\n",
       "<style scoped>\n",
       "    .dataframe tbody tr th:only-of-type {\n",
       "        vertical-align: middle;\n",
       "    }\n",
       "\n",
       "    .dataframe tbody tr th {\n",
       "        vertical-align: top;\n",
       "    }\n",
       "\n",
       "    .dataframe thead th {\n",
       "        text-align: right;\n",
       "    }\n",
       "</style>\n",
       "<table border=\"1\" class=\"dataframe\">\n",
       "  <thead>\n",
       "    <tr style=\"text-align: right;\">\n",
       "      <th></th>\n",
       "      <th>readme_length</th>\n",
       "    </tr>\n",
       "  </thead>\n",
       "  <tbody>\n",
       "    <tr>\n",
       "      <th>count</th>\n",
       "      <td>66.000000</td>\n",
       "    </tr>\n",
       "    <tr>\n",
       "      <th>mean</th>\n",
       "      <td>9124.742424</td>\n",
       "    </tr>\n",
       "    <tr>\n",
       "      <th>std</th>\n",
       "      <td>25242.379029</td>\n",
       "    </tr>\n",
       "    <tr>\n",
       "      <th>min</th>\n",
       "      <td>251.000000</td>\n",
       "    </tr>\n",
       "    <tr>\n",
       "      <th>25%</th>\n",
       "      <td>2835.000000</td>\n",
       "    </tr>\n",
       "    <tr>\n",
       "      <th>50%</th>\n",
       "      <td>4877.500000</td>\n",
       "    </tr>\n",
       "    <tr>\n",
       "      <th>75%</th>\n",
       "      <td>6918.250000</td>\n",
       "    </tr>\n",
       "    <tr>\n",
       "      <th>max</th>\n",
       "      <td>206311.000000</td>\n",
       "    </tr>\n",
       "  </tbody>\n",
       "</table>\n",
       "</div>"
      ],
      "text/plain": [
       "       readme_length\n",
       "count      66.000000\n",
       "mean     9124.742424\n",
       "std     25242.379029\n",
       "min       251.000000\n",
       "25%      2835.000000\n",
       "50%      4877.500000\n",
       "75%      6918.250000\n",
       "max    206311.000000"
      ]
     },
     "execution_count": 6,
     "metadata": {},
     "output_type": "execute_result"
    }
   ],
   "source": [
    "train.describe()"
   ]
  },
  {
   "cell_type": "markdown",
   "id": "f098fa1c-9ded-4a78-9ab9-ecfa70543e59",
   "metadata": {},
   "source": [
    "# Explore"
   ]
  },
  {
   "cell_type": "code",
   "execution_count": 7,
   "id": "2cb834c2",
   "metadata": {},
   "outputs": [
    {
     "data": {
      "text/html": [
       "<div>\n",
       "<style scoped>\n",
       "    .dataframe tbody tr th:only-of-type {\n",
       "        vertical-align: middle;\n",
       "    }\n",
       "\n",
       "    .dataframe tbody tr th {\n",
       "        vertical-align: top;\n",
       "    }\n",
       "\n",
       "    .dataframe thead th {\n",
       "        text-align: right;\n",
       "    }\n",
       "</style>\n",
       "<table border=\"1\" class=\"dataframe\">\n",
       "  <thead>\n",
       "    <tr style=\"text-align: right;\">\n",
       "      <th></th>\n",
       "      <th>lemmatize</th>\n",
       "    </tr>\n",
       "  </thead>\n",
       "  <tbody>\n",
       "    <tr>\n",
       "      <th>rust</th>\n",
       "      <td>451</td>\n",
       "    </tr>\n",
       "    <tr>\n",
       "      <th>build</th>\n",
       "      <td>277</td>\n",
       "    </tr>\n",
       "    <tr>\n",
       "      <th>use</th>\n",
       "      <td>215</td>\n",
       "    </tr>\n",
       "    <tr>\n",
       "      <th>library</th>\n",
       "      <td>204</td>\n",
       "    </tr>\n",
       "    <tr>\n",
       "      <th>file</th>\n",
       "      <td>147</td>\n",
       "    </tr>\n",
       "    <tr>\n",
       "      <th>...</th>\n",
       "      <td>...</td>\n",
       "    </tr>\n",
       "    <tr>\n",
       "      <th>era</th>\n",
       "      <td>1</td>\n",
       "    </tr>\n",
       "    <tr>\n",
       "      <th>mitlicense</th>\n",
       "      <td>1</td>\n",
       "    </tr>\n",
       "    <tr>\n",
       "      <th>sendinputforcelogout</th>\n",
       "      <td>1</td>\n",
       "    </tr>\n",
       "    <tr>\n",
       "      <th>stateloggingin</th>\n",
       "      <td>1</td>\n",
       "    </tr>\n",
       "    <tr>\n",
       "      <th>okazuhttpswwwfacebookcompashimo</th>\n",
       "      <td>1</td>\n",
       "    </tr>\n",
       "  </tbody>\n",
       "</table>\n",
       "<p>10243 rows × 1 columns</p>\n",
       "</div>"
      ],
      "text/plain": [
       "                                 lemmatize\n",
       "rust                                   451\n",
       "build                                  277\n",
       "use                                    215\n",
       "library                                204\n",
       "file                                   147\n",
       "...                                    ...\n",
       "era                                      1\n",
       "mitlicense                               1\n",
       "sendinputforcelogout                     1\n",
       "stateloggingin                           1\n",
       "okazuhttpswwwfacebookcompashimo          1\n",
       "\n",
       "[10243 rows x 1 columns]"
      ]
     },
     "execution_count": 7,
     "metadata": {},
     "output_type": "execute_result"
    }
   ],
   "source": [
    "# split the words individually up and lemmatixe them                                                                                                                                                                                                                                                                                                            \n",
    "git_lem_words =\" \".join(train.lemmatized).split(\" \")\n",
    "\n",
    "lem_freq = pd.Series(git_lem_words).value_counts()\n",
    "\n",
    "# create df of freq words\n",
    "word_counts = pd.concat([lem_freq], axis=1).fillna(0).astype(int)\n",
    "\n",
    "# rename the col names\n",
    "word_counts.columns = [\"lemmatize\"]\n",
    "word_counts"
   ]
  },
  {
   "cell_type": "markdown",
   "id": "a5c5a01d-31a8-40cb-aa0b-b9f14a750e31",
   "metadata": {},
   "source": [
    "## Question 0 Are there any words that uniquely identify a programming language?\n",
    "- NOTE: this question is more of a look at the data, not a stats test question"
   ]
  },
  {
   "cell_type": "code",
   "execution_count": 8,
   "id": "799e28c7-9419-414c-9b31-d56d313c16b1",
   "metadata": {},
   "outputs": [
    {
     "data": {
      "image/png": "[encoded data removed]",
      "text/plain": [
       "<Figure size 640x480 with 1 Axes>"
      ]
     },
     "metadata": {},
     "output_type": "display_data"
    }
   ],
   "source": [
    "# Example: # get a boxplot and histplot of property_value of train\n",
    "# Visualize Example: # get a regplot of squarefeet vs property_value on train\n",
    "word_counts.sort_values(\"lemmatize\", ascending=False)[[\"lemmatize\"]].head(20).plot.barh();\n",
    "\n"
   ]
  },
  {
   "cell_type": "markdown",
   "id": "b78a2ceb",
   "metadata": {},
   "source": [
    "* `pure, rust`, `rust, build` rust is a library for C language, which leads me to objective-c\n",
    "* `install npm` npm is a package manager for the JavaScript programming language\n",
    "* `library ruby` ruby is a language "
   ]
  },
  {
   "cell_type": "markdown",
   "id": "692e2149-b660-4f08-af79-f55dc288fcf0",
   "metadata": {},
   "source": [
    "## Question 1 Are there bigrams or n-grams that can uniquely identify a programming language?"
   ]
  },
  {
   "cell_type": "code",
   "execution_count": 9,
   "id": "b4d89248-6fdb-476c-9aec-7056d432effc",
   "metadata": {},
   "outputs": [
    {
     "data": {
      "image/png": "[encoded data removed]",
      "text/plain": [
       "<Figure size 640x480 with 1 Axes>"
      ]
     },
     "metadata": {},
     "output_type": "display_data"
    }
   ],
   "source": [
    "# Visualize Example: # get a regplot of squarefeet vs property_value on train\n",
    "\n",
    "ke.make_ngram(git_lem_words, 2).head(20).plot.barh();"
   ]
  },
  {
   "cell_type": "markdown",
   "id": "e7e4f255",
   "metadata": {},
   "source": [
    "* `rust` library for C\n",
    "* `ruby` ruby is a language"
   ]
  },
  {
   "cell_type": "markdown",
   "id": "0be0c02b-bc5b-4ea2-8cfd-e4d0bed55081",
   "metadata": {},
   "source": [
    "### Analyze feature_x vs target with stats\n",
    "- $H_0$: There is NO relationship between feature_x and target\n",
    "- $H_a$: There IS a relationship\n",
    "- $\\alpha$ = .05\n",
    "    - Example 1: Utilize pearsonr - we are comparing continuous variables, normally distributed\n",
    "    - Example 2:Comparing a categorical to a continuous variable, normally distributed, and equal variance\n",
    "        - Testing if property value of has_pool == 1 is signicantly greater than has_pool == 0:  one-tail ttest\n",
    "        - Utilize f_oneway\n",
    "    - Many other stats tests"
   ]
  },
  {
   "cell_type": "markdown",
   "id": "f4bc445a-23c3-42ab-8b61-b44b84fad81c",
   "metadata": {},
   "source": [
    "### Summarize\n",
    "- p is < $\\alpha$, so we can reject the $H_0$ which suggest the $H_a$, i.e. there IS a relationship between feature_x and target (and maybe more description)"
   ]
  },
  {
   "cell_type": "markdown",
   "id": "9ab029ee-2e57-4241-a727-6d8646873f8d",
   "metadata": {},
   "source": [
    "## Question 2 (e.g. Is feature_x associated with target?)"
   ]
  },
  {
   "cell_type": "code",
   "execution_count": 10,
   "id": "7ca01a96-cdbf-4fdc-a147-37981a5ffd62",
   "metadata": {},
   "outputs": [],
   "source": [
    "# Visualize Example: # get a regplot of squarefeet vs property_value on train\n",
    "## INSERT CODE HERE"
   ]
  },
  {
   "cell_type": "markdown",
   "id": "914c5bf2-e9b5-42b3-8723-bea67545d53f",
   "metadata": {},
   "source": [
    "### Analyze feature_x vs target with stats\n",
    "- $H_0$: There is NO relationship between feature_x and target\n",
    "- $H_a$: There IS a relationship\n",
    "- $\\alpha$ = .05\n",
    "    - Example 1: Utilize pearsonr - we are comparing continuous variables, normally distributed\n",
    "    - Example 2:Comparing a categorical to a continuous variable, normally distributed, and equal variance\n",
    "        - Testing if property value of has_pool == 1 is signicantly greater than has_pool == 0:  one-tail ttest\n",
    "        - Utilize f_oneway\n",
    "    - Many other stats tests"
   ]
  },
  {
   "cell_type": "code",
   "execution_count": 11,
   "id": "abeef95f-c078-4b78-9676-f8b5b9c6ba9f",
   "metadata": {},
   "outputs": [],
   "source": [
    "# get the stats from a pearsonr test on feature_x vs target\n",
    "## INSERT CODE HERE"
   ]
  },
  {
   "cell_type": "markdown",
   "id": "c412b2fb-1c5e-4384-ae8f-26a88747f998",
   "metadata": {},
   "source": [
    "### Summarize\n",
    "- p is < $\\alpha$, so we can reject the $H_0$ which suggest the $H_a$, i.e. there IS a relationship between feature_x and target (and maybe more description)"
   ]
  },
  {
   "cell_type": "markdown",
   "id": "6b59bf89-7cd7-45c1-8993-e01232adc37f",
   "metadata": {},
   "source": [
    "## Question 3 (e.g. Is feature_x associated with target?)"
   ]
  },
  {
   "cell_type": "code",
   "execution_count": 12,
   "id": "be92c1e8-7bf5-4805-8802-3628f17f9c90",
   "metadata": {},
   "outputs": [],
   "source": [
    "# Visualize Example: # get a regplot of squarefeet vs property_value on train\n",
    "## INSERT CODE HERE"
   ]
  },
  {
   "cell_type": "markdown",
   "id": "dcf41d59-f837-4c10-8393-303b8c7f1cb6",
   "metadata": {},
   "source": [
    "### Analyze feature_x vs target with stats\n",
    "- $H_0$: There is NO relationship between feature_x and target\n",
    "- $H_a$: There IS a relationship\n",
    "- $\\alpha$ = .05\n",
    "    - Example 1: Utilize pearsonr - we are comparing continuous variables, normally distributed\n",
    "    - Example 2:Comparing a categorical to a continuous variable, normally distributed, and equal variance\n",
    "        - Testing if property value of has_pool == 1 is signicantly greater than has_pool == 0:  one-tail ttest\n",
    "        - Utilize f_oneway\n",
    "    - Many other stats tests"
   ]
  },
  {
   "cell_type": "code",
   "execution_count": 13,
   "id": "b885b43a-8cdb-4713-be95-11f6584dca4b",
   "metadata": {},
   "outputs": [],
   "source": [
    "# get the stats from a pearsonr test on feature_x vs target\n",
    "## INSERT CODE HERE"
   ]
  },
  {
   "cell_type": "markdown",
   "id": "575b20c3-5452-4d79-b58a-94e396174c7c",
   "metadata": {},
   "source": [
    "### Summarize\n",
    "- p is < $\\alpha$, so we can reject the $H_0$ which suggest the $H_a$, i.e. there IS a relationship between feature_x and target (and maybe more description)"
   ]
  },
  {
   "cell_type": "markdown",
   "id": "5bcb94d7-9b6f-499c-a02c-5007c91cef09",
   "metadata": {},
   "source": [
    "## Question 4 (e.g. Is feature_x associated with target?)"
   ]
  },
  {
   "cell_type": "code",
   "execution_count": 14,
   "id": "71c328d9-b648-492a-bc80-0ca403429a01",
   "metadata": {},
   "outputs": [],
   "source": [
    "# Visualize Example: # get a regplot of squarefeet vs property_value on train\n",
    "# INSERT CODE HERE"
   ]
  },
  {
   "cell_type": "markdown",
   "id": "a669be59-4ecc-4339-a90c-97fc39fb7db2",
   "metadata": {},
   "source": [
    "### Analyze feature_x vs target with stats\n",
    "- $H_0$: There is NO relationship between feature_x and target\n",
    "- $H_a$: There IS a relationship\n",
    "- $\\alpha$ = .05\n",
    "    - Example 1: Utilize pearsonr - we are comparing continuous variables, normally distributed\n",
    "    - Example 2:Comparing a categorical to a continuous variable, normally distributed, and equal variance\n",
    "        - Testing if property value of has_pool == 1 is signicantly greater than has_pool == 0:  one-tail ttest\n",
    "        - Utilize f_oneway\n",
    "    - Many other stats tests"
   ]
  },
  {
   "cell_type": "code",
   "execution_count": 15,
   "id": "0ce59fa9-b6b8-4d10-9956-33c4eb13407a",
   "metadata": {},
   "outputs": [],
   "source": [
    "# get the stats from a pearsonr test on feature_x vs target\n",
    "## INSERT CODE HERE"
   ]
  },
  {
   "cell_type": "markdown",
   "id": "29f18be1-aa64-4d65-82b0-a51bf2552cea",
   "metadata": {},
   "source": [
    "### Summarize\n",
    "- p is < $\\alpha$, so we can reject the $H_0$ which suggest the $H_a$, i.e. there IS a relationship between feature_x and target (and maybe more description)"
   ]
  },
  {
   "cell_type": "markdown",
   "id": "61405f05-c95d-4259-8199-749c1c5687c0",
   "metadata": {},
   "source": [
    "## Exploration Summary\n",
    "* Plain English bullets as required\n",
    "\n",
    "* Features that have a relationship with target (stats test for feature_y, feature_z, etc. completed on separate working notebook:\n",
    "    * feature x ...\n",
    "    * feature y\n",
    "    * feature z\n"
   ]
  },
  {
   "cell_type": "markdown",
   "id": "1edf3028-b066-4bc7-b36f-973e93d1cf00",
   "metadata": {},
   "source": [
    "### (As Required) Features I am moving to modeling with"
   ]
  },
  {
   "cell_type": "markdown",
   "id": "03106467-78b4-4b91-ad02-ee5e1bd347b9",
   "metadata": {},
   "source": [
    "### (As Required) Features I am not moving to modeling with"
   ]
  },
  {
   "cell_type": "markdown",
   "id": "ce5644a9-dd6d-4cca-8967-551b6b7204d6",
   "metadata": {},
   "source": [
    "# Modeling\n",
    "* Evaluation Metrics (example: I will use R^2 and Root Mean Square Error (RMSE) as my evaluation metrics)\n",
    "    * for R^2, the value is in the range 0-1; closer to 1.0 is better; baseline is 0.0\n",
    "    * for RMSE, the lower the value the better; baseline is xxx\n",
    "* The average target is xxx which is the baseline prediction\n",
    "* I will evaluate x different model types and various hyperparameter configurations\n",
    "    * (Example: The four model types are Ordinary Least Squares (OLS), LassoLars, Polynomial Regression, Generalized Linear Model (GLM))\n",
    "* Models will be evaluated on train and validate data\n",
    "* The model that performs the best will then be evaluated on test"
   ]
  },
  {
   "cell_type": "code",
   "execution_count": 74,
   "id": "9ae52bda",
   "metadata": {},
   "outputs": [],
   "source": [
    "# import for model \n",
    "from sklearn.model_selection import train_test_split\n",
    "from sklearn.tree import DecisionTreeClassifier\n",
    "from sklearn.ensemble import RandomForestClassifier\n",
    "from sklearn.feature_extraction.text import CountVectorizer\n",
    "from sklearn.neighbors import KNeighborsClassifier\n",
    "from sklearn.linear_model import LogisticRegression"
   ]
  },
  {
   "cell_type": "code",
   "execution_count": 17,
   "id": "a40eb5ea",
   "metadata": {},
   "outputs": [],
   "source": [
    "def split_data_xy(train, validate, test, target=\"language\"):\n",
    "    '''\n",
    "    This function take in a dataframe performs a train, validate, test split\n",
    "    Returns train, validate, test, X_train, y_train, X_validate, y_validate, X_test, y_test\n",
    "    and prints out the shape of train, validate, test\n",
    "    '''\n",
    "    #Split into X and y\n",
    "    x_train = train.lemmatized\n",
    "    y_train = train[target]\n",
    "\n",
    "    x_validate = validate.lemmatized\n",
    "    y_validate = validate[target]\n",
    "\n",
    "    x_test = test.lemmatized\n",
    "    y_test = test[target]\n",
    "    \n",
    "\n",
    "    # Have function print datasets shape\n",
    "    print(f'train -> {train.shape}')\n",
    "    print(f'validate -> {validate.shape}')\n",
    "    print(f'test -> {test.shape}')\n",
    "   \n",
    "    return train, validate, test, x_train, y_train, x_validate, y_validate, x_test, y_test"
   ]
  },
  {
   "cell_type": "code",
   "execution_count": 85,
   "id": "0c1e70d0-b1eb-431b-ae70-73ae4275f7be",
   "metadata": {},
   "outputs": [
    {
     "name": "stdout",
     "output_type": "stream",
     "text": [
      "train -> (66, 5)\n",
      "validate -> (22, 5)\n",
      "test -> (22, 5)\n"
     ]
    },
    {
     "data": {
      "text/plain": [
       "0.23"
      ]
     },
     "execution_count": 85,
     "metadata": {},
     "output_type": "execute_result"
    }
   ],
   "source": [
    "## prep data for modeling\n",
    "# get X y splits for modeling\n",
    "train, validate, test, x_train, y_train, x_validate, y_validate, x_test, y_test = ke.split_data_xy(train, validate, test)\n",
    "\n",
    "# create baseline \n",
    "baseline_accuracy = (train.language == \"other\").mean()\n",
    "round(baseline_accuracy, 2)"
   ]
  },
  {
   "cell_type": "code",
   "execution_count": 86,
   "id": "7206678d",
   "metadata": {},
   "outputs": [],
   "source": [
    "# create bag of words\n",
    "cv = CountVectorizer()\n",
    "x_bow = cv.fit_transform(x_train)\n",
    "x_validate_bow = cv.transform(x_validate)\n",
    "x_test_bow = cv.transform(x_test)"
   ]
  },
  {
   "cell_type": "markdown",
   "id": "fe366a63-f8f6-4a08-931b-b8211c26393f",
   "metadata": {},
   "source": [
    "## Model Name: DecisionTreeClassifier"
   ]
  },
  {
   "cell_type": "code",
   "execution_count": 87,
   "id": "51ce467e",
   "metadata": {},
   "outputs": [
    {
     "name": "stdout",
     "output_type": "stream",
     "text": [
      " Train Score: 0.8939393939393939, Validation Score: 0.5\n"
     ]
    }
   ],
   "source": [
    "#build my model\n",
    "tree = DecisionTreeClassifier(max_depth=7, random_state=123)\n",
    "tree.fit(x_bow, y_train)\n",
    "tree.score(x_bow, y_train)\n",
    "\n",
    "# get model results\n",
    "print(f\" Train Score: {tree.score(x_bow, y_train)}, Validation Score: {tree.score(x_validate_bow, y_validate)}\")"
   ]
  },
  {
   "cell_type": "markdown",
   "id": "d3fa8e44-a95e-40bf-a33e-1121643eeb5c",
   "metadata": {},
   "source": [
    "* model: DecisionTreeClassifier did beat baseline with approximately 27%"
   ]
  },
  {
   "cell_type": "markdown",
   "id": "23223c6d-3e73-4023-860a-f9096996a35d",
   "metadata": {},
   "source": [
    "## Model: Random Forest"
   ]
  },
  {
   "cell_type": "code",
   "execution_count": 88,
   "id": "6982afc1-f59d-4542-8f9f-9e5f933c6270",
   "metadata": {},
   "outputs": [
    {
     "name": "stdout",
     "output_type": "stream",
     "text": [
      " Train Score: 0.9545454545454546, Validation Score: 0.3181818181818182\n"
     ]
    }
   ],
   "source": [
    "# get model results\n",
    "#build my model\n",
    "rf = RandomForestClassifier(max_depth=5, min_samples_leaf=1, random_state=123)\n",
    "rf.fit(x_bow, y_train)\n",
    "\n",
    "# get model results\n",
    "print(f\" Train Score: {rf.score(x_bow, y_train)}, Validation Score: {rf.score(x_validate_bow, y_validate)}\")"
   ]
  },
  {
   "cell_type": "markdown",
   "id": "0aa1e416",
   "metadata": {},
   "source": [
    "* model: Random Forest did beat baseline with approximately 8%"
   ]
  },
  {
   "cell_type": "markdown",
   "id": "132b48fe-5ccb-4843-acf1-0128a962c03f",
   "metadata": {},
   "source": [
    "## Model: KNN"
   ]
  },
  {
   "cell_type": "code",
   "execution_count": 73,
   "id": "54393a40-ef22-4238-a8ed-2e9955e4716e",
   "metadata": {},
   "outputs": [
    {
     "name": "stdout",
     "output_type": "stream",
     "text": [
      " Train Score: 0.5909090909090909, Validation Score: 0.36363636363636365\n"
     ]
    }
   ],
   "source": [
    "# get model results\n",
    "#build my model\n",
    "knn = KNeighborsClassifier(n_neighbors=8)\n",
    "knn.fit(x_bow, y_train)\n",
    "\n",
    "# get model results\n",
    "print(f\" Train Score: {knn.score(x_bow, y_train)}, Validation Score: {knn.score(x_validate_bow, y_validate)}\")"
   ]
  },
  {
   "cell_type": "markdown",
   "id": "5d5bfd88",
   "metadata": {},
   "source": [
    "* model: KNN did beat baseline with approximately 13%"
   ]
  },
  {
   "cell_type": "markdown",
   "id": "9c8cd0b0-b255-45ce-b50c-5fb50086ad05",
   "metadata": {},
   "source": [
    "## Model: LogisticRegression"
   ]
  },
  {
   "cell_type": "code",
   "execution_count": 79,
   "id": "aeb23ee3-9ac8-416e-b41b-042522c350e4",
   "metadata": {},
   "outputs": [
    {
     "name": "stdout",
     "output_type": "stream",
     "text": [
      " Train Score: 1.0, Validation Score: 0.5\n"
     ]
    }
   ],
   "source": [
    "# get model results\n",
    "logit = LogisticRegression(random_state=123)\n",
    "logit.fit(x_bow, y_train)\n",
    "\n",
    "# get model results\n",
    "print(f\" Train Score: {logit.score(x_bow, y_train)}, Validation Score: {logit.score(x_validate_bow, y_validate)}\")"
   ]
  },
  {
   "cell_type": "markdown",
   "id": "aa97660e",
   "metadata": {},
   "source": [
    "* model: LogisticRegression did beat baseline with approximately 18%"
   ]
  },
  {
   "cell_type": "markdown",
   "id": "38af26d7-2fc2-47c3-8bf2-cc435eca964d",
   "metadata": {},
   "source": [
    "## Comparing Models\n",
    "* summarize the model performance\n",
    "* DecisionTreeClassifier did beat baseline with approximately 27%\n",
    "* Random Forest did beat baseline with approximately 8%\n",
    "* KNN did beat baseline with approximately 13%\n",
    "* I have chosen to move forward with the DecisionTree model on test"
   ]
  },
  {
   "cell_type": "markdown",
   "id": "f757c82b-fe9e-4cff-966a-5ca738701bf6",
   "metadata": {},
   "source": [
    "## Best Model (model name) on Test"
   ]
  },
  {
   "cell_type": "code",
   "execution_count": 84,
   "id": "b4e673af-5c0e-46d0-9ad2-e38c0074cd35",
   "metadata": {},
   "outputs": [
    {
     "data": {
      "text/plain": [
       "0.6363636363636364"
      ]
     },
     "execution_count": 84,
     "metadata": {},
     "output_type": "execute_result"
    }
   ],
   "source": [
    "# get test results for final model\n",
    "tree.score(x_test_bow, y_test)"
   ]
  },
  {
   "cell_type": "markdown",
   "id": "a0b5e7d9-7b20-47a0-8d4e-5fd718457ba9",
   "metadata": {},
   "source": [
    "## Modeling Summary\n",
    "* The model outperformed the baseline by 40%"
   ]
  },
  {
   "cell_type": "markdown",
   "id": "90a4de71-1dfa-4fb4-9db6-16ad478ecb21",
   "metadata": {},
   "source": [
    "# Conclusions"
   ]
  },
  {
   "cell_type": "markdown",
   "id": "525f5d7c-6d57-46fc-a73b-214d747fb463",
   "metadata": {},
   "source": [
    "## Exploration\n",
    "* bullets"
   ]
  },
  {
   "cell_type": "markdown",
   "id": "17f540ad-bda0-4fc3-b86d-dcc1a54e0be6",
   "metadata": {},
   "source": [
    "## Modeling\n",
    "* bullets"
   ]
  },
  {
   "cell_type": "markdown",
   "id": "2908b674-c768-40c2-8f99-0bc4cd59e719",
   "metadata": {},
   "source": [
    "## Recommendations\n",
    "* bullets"
   ]
  },
  {
   "cell_type": "markdown",
   "id": "f26aeb83-c95f-44d2-8d0d-d5a45a7851ef",
   "metadata": {},
   "source": [
    "## Next steps\n",
    "* bullets"
   ]
  }
 ],
 "metadata": {
  "kernelspec": {
   "display_name": "Python 3 (ipykernel)",
   "language": "python",
   "name": "python3"
  },
  "language_info": {
   "codemirror_mode": {
    "name": "ipython",
    "version": 3
   },
   "file_extension": ".py",
   "mimetype": "text/x-python",
   "name": "python",
   "nbconvert_exporter": "python",
   "pygments_lexer": "ipython3",
   "version": "3.9.13"
  }
 },
 "nbformat": 4,
 "nbformat_minor": 5
}
